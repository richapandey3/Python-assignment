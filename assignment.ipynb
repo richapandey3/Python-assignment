{
 "cells": [
  {
   "cell_type": "code",
   "execution_count": 1,
   "id": "e762e608-3bb3-4f2a-958c-fe9ad492ef3d",
   "metadata": {},
   "outputs": [],
   "source": [
    "# Q1. explain the key features of Python that make it a popular choice for programming\n",
    "\n",
    "#There is manny key features of python programing\n",
    "#readability and simplicity\n",
    "# easy to learn\n",
    "#easy to write\n",
    "#Dynamic Typing and Dynimic binding\n",
    "#strong community support\n",
    "#Object oriented programming langauage"
   ]
  },
  {
   "cell_type": "code",
   "execution_count": 2,
   "id": "859d4b3c-936b-417c-a711-9252e5706f47",
   "metadata": {},
   "outputs": [],
   "source": [
    "#Q2. Describe the role of predefined keywords in Python and provide examples of how they are used in a programm\n",
    "# Python keyword are special reserved words that have specific meaning and purposes can not be used for anything but those specific purpose\n",
    "\n"
   ]
  },
  {
   "cell_type": "code",
   "execution_count": 16,
   "id": "3b746906-0fe1-435d-89b5-08940ede0e6e",
   "metadata": {},
   "outputs": [
    {
     "data": {
      "text/plain": [
       "False"
      ]
     },
     "execution_count": 16,
     "metadata": {},
     "output_type": "execute_result"
    }
   ],
   "source": [
    "#False keyword\n",
    "a = 10\n",
    "b = 20\n",
    "a is b\n"
   ]
  },
  {
   "cell_type": "code",
   "execution_count": 14,
   "id": "884bc039-f7ec-4b15-8228-86110779fbf6",
   "metadata": {},
   "outputs": [
    {
     "data": {
      "text/plain": [
       "True"
      ]
     },
     "execution_count": 14,
     "metadata": {},
     "output_type": "execute_result"
    }
   ],
   "source": [
    "#True\n",
    "\"richa\" not in \"i am \""
   ]
  },
  {
   "cell_type": "code",
   "execution_count": 17,
   "id": "9170422b-e655-4670-9459-1c3a05725f95",
   "metadata": {},
   "outputs": [
    {
     "name": "stdout",
     "output_type": "stream",
     "text": [
      "a is less than 70\n"
     ]
    }
   ],
   "source": [
    "#if\n",
    "a = 50\n",
    "if a < 70:\n",
    "    print(\"a is less than 70\")\n"
   ]
  },
  {
   "cell_type": "code",
   "execution_count": 21,
   "id": "d4bef84b-9c28-4fd6-a11f-1651973e0bc0",
   "metadata": {},
   "outputs": [
    {
     "name": "stdout",
     "output_type": "stream",
     "text": [
      "This is not fruit\n"
     ]
    }
   ],
   "source": [
    "#if-else\n",
    "\n",
    "is_mango_fruit = False\n",
    "if is_mango_fruit:\n",
    "    print(\" This is fruit\")\n",
    "else:\n",
    "    print(\"This is not fruit\")"
   ]
  },
  {
   "cell_type": "code",
   "execution_count": 22,
   "id": "d19e30b6-03c4-4340-b280-a5986ef15d5b",
   "metadata": {},
   "outputs": [
    {
     "name": "stdout",
     "output_type": "stream",
     "text": [
      " This is fruit\n"
     ]
    }
   ],
   "source": [
    "#if-else\n",
    "\n",
    "is_mango_fruit = True\n",
    "if is_mango_fruit:\n",
    "    print(\" This is fruit\")\n",
    "else:\n",
    "    print(\"This is not fruit\")"
   ]
  },
  {
   "cell_type": "code",
   "execution_count": 23,
   "id": "f5a1996b-1d79-41dc-b35f-49f270c6c4f3",
   "metadata": {},
   "outputs": [],
   "source": [
    "#Q 3.Compare and contrast mutable and immutable objects in Python with examples\n",
    "# List can be mutable and dictionary as well but string can not be mutable its immutable\n"
   ]
  },
  {
   "cell_type": "code",
   "execution_count": 24,
   "id": "5d5a5c16-b628-4586-a323-90f04aee1c9b",
   "metadata": {},
   "outputs": [
    {
     "data": {
      "text/plain": [
       "[1, 2, 'mango', 'grapes', 'papaya']"
      ]
     },
     "execution_count": 24,
     "metadata": {},
     "output_type": "execute_result"
    }
   ],
   "source": [
    "#mutable\n",
    "a = [1, 2, \"mango\", \"grapes\", \"papaya\"]\n",
    "a\n",
    "     "
   ]
  },
  {
   "cell_type": "code",
   "execution_count": 26,
   "id": "753d2d0e-a668-4f73-a57c-eaed9ae2afe4",
   "metadata": {},
   "outputs": [
    {
     "data": {
      "text/plain": [
       "[1, 2, 'orange', 'grapes', 'papaya']"
      ]
     },
     "execution_count": 26,
     "metadata": {},
     "output_type": "execute_result"
    }
   ],
   "source": [
    "a[2] = \"orange\"\n",
    "a"
   ]
  },
  {
   "cell_type": "code",
   "execution_count": 27,
   "id": "772c914b-502e-4583-b259-2acda8290741",
   "metadata": {},
   "outputs": [
    {
     "data": {
      "text/plain": [
       "'This is programming language'"
      ]
     },
     "execution_count": 27,
     "metadata": {},
     "output_type": "execute_result"
    }
   ],
   "source": [
    "#immutable\n",
    "a = \"This is programming language\"\n",
    "a"
   ]
  },
  {
   "cell_type": "code",
   "execution_count": 29,
   "id": "d165a251-47ab-4333-b27f-313a44ac26cc",
   "metadata": {},
   "outputs": [],
   "source": [
    "a[0] = \"This is not programming language\"\n",
    "a"
   ]
  },
  {
   "cell_type": "code",
   "execution_count": 30,
   "id": "614dd226-61d5-4f46-a14e-b5f6d57c7732",
   "metadata": {},
   "outputs": [],
   "source": [
    "# Q.4 Discuss the different types of operators in Python and provide exaaples of how they are used"
   ]
  },
  {
   "cell_type": "code",
   "execution_count": 32,
   "id": "437c609c-6d97-4a84-8498-d00c03bcd1c8",
   "metadata": {},
   "outputs": [
    {
     "data": {
      "text/plain": [
       "6"
      ]
     },
     "execution_count": 32,
     "metadata": {},
     "output_type": "execute_result"
    }
   ],
   "source": [
    "#assingment operator\n",
    "a = 2\n",
    "b = 4\n",
    "a + b"
   ]
  },
  {
   "cell_type": "code",
   "execution_count": 1,
   "id": "0cc99569-7fc7-4945-b58c-e4c54336fc32",
   "metadata": {},
   "outputs": [
    {
     "name": "stdout",
     "output_type": "stream",
     "text": [
      "False\n"
     ]
    }
   ],
   "source": [
    "#comparsion operator\n",
    "x = 5\n",
    "y = 3\n",
    "print(x == y)"
   ]
  },
  {
   "cell_type": "code",
   "execution_count": 4,
   "id": "4d0f1265-fa46-4ba6-ae12-ca25a20950ce",
   "metadata": {},
   "outputs": [
    {
     "name": "stdout",
     "output_type": "stream",
     "text": [
      "True\n"
     ]
    }
   ],
   "source": [
    "#membership operator\n",
    "x = [\"cherry\", \"apple\"]\n",
    "print(\"apple\" in x)"
   ]
  },
  {
   "cell_type": "code",
   "execution_count": 6,
   "id": "4166c906-666c-4b5e-9540-c849e69da408",
   "metadata": {},
   "outputs": [
    {
     "name": "stdout",
     "output_type": "stream",
     "text": [
      "2\n"
     ]
    }
   ],
   "source": [
    "#bitwise operator\n",
    "print(6 & 3)"
   ]
  },
  {
   "cell_type": "code",
   "execution_count": 7,
   "id": "26c46963-0cbf-4404-acd1-58937e8a6c08",
   "metadata": {},
   "outputs": [
    {
     "data": {
      "text/plain": [
       "508"
      ]
     },
     "execution_count": 7,
     "metadata": {},
     "output_type": "execute_result"
    }
   ],
   "source": [
    "# explain the concept of type casting in Python with exaaples\n",
    "a = \"500\"\n",
    "b = 8\n",
    "a = int(a)\n",
    "a+b"
   ]
  },
  {
   "cell_type": "code",
   "execution_count": 8,
   "id": "201444c4-74fb-42ab-aafb-083aae7e1158",
   "metadata": {},
   "outputs": [
    {
     "data": {
      "text/plain": [
       "float"
      ]
     },
     "execution_count": 8,
     "metadata": {},
     "output_type": "execute_result"
    }
   ],
   "source": [
    "a = 300\n",
    "type(float(a))"
   ]
  },
  {
   "cell_type": "code",
   "execution_count": 9,
   "id": "92bf3982-6516-40ec-9e21-e82a3e9eb0e4",
   "metadata": {},
   "outputs": [
    {
     "data": {
      "text/plain": [
       "int"
      ]
     },
     "execution_count": 9,
     "metadata": {},
     "output_type": "execute_result"
    }
   ],
   "source": [
    "a = 20.5\n",
    "type(int(a))"
   ]
  },
  {
   "cell_type": "code",
   "execution_count": 10,
   "id": "5117aa7a-97ca-431b-b8ad-6d41d843291f",
   "metadata": {},
   "outputs": [
    {
     "data": {
      "text/plain": [
       "bool"
      ]
     },
     "execution_count": 10,
     "metadata": {},
     "output_type": "execute_result"
    }
   ],
   "source": [
    "a = 30\n",
    "type(bool(a))"
   ]
  },
  {
   "cell_type": "code",
   "execution_count": 11,
   "id": "ea2028e7-abec-49fa-805a-8495a5df5df7",
   "metadata": {},
   "outputs": [
    {
     "data": {
      "text/plain": [
       "str"
      ]
     },
     "execution_count": 11,
     "metadata": {},
     "output_type": "execute_result"
    }
   ],
   "source": [
    "a = 40\n",
    "type(str(a))"
   ]
  },
  {
   "cell_type": "code",
   "execution_count": 17,
   "id": "02d1b5d2-25ce-4308-afe8-59d050a39c88",
   "metadata": {},
   "outputs": [
    {
     "name": "stdout",
     "output_type": "stream",
     "text": [
      "a is not  greater than 50\n"
     ]
    }
   ],
   "source": [
    "# How do conditional statetents work in Python? Illustrate with examples\n",
    "a = 30\n",
    "if a >50:\n",
    "    print(\"a is greater than 50\")\n",
    "else:\n",
    "    print(\"a is not  greater than 50\")"
   ]
  },
  {
   "cell_type": "code",
   "execution_count": 2,
   "id": "f9e705c4-65b2-4dbd-99ae-30e4aa558306",
   "metadata": {},
   "outputs": [
    {
     "name": "stdout",
     "output_type": "stream",
     "text": [
      "weather is not cloudy\n"
     ]
    }
   ],
   "source": [
    "weather = \"cloudy\"\n",
    "if weather == \"sunny\":\n",
    "    print(\"weather is cloudy\")\n",
    "else:\n",
    "    print(\"weather is not cloudy\")\n",
    "        \n"
   ]
  },
  {
   "cell_type": "code",
   "execution_count": 3,
   "id": "7b7c08f3-386a-4be8-9bef-e1720b2f4218",
   "metadata": {},
   "outputs": [
    {
     "name": "stdout",
     "output_type": "stream",
     "text": [
      "1\n",
      "2\n",
      "3\n",
      "4\n",
      "5\n",
      "6\n",
      "7\n",
      "8\n",
      "9\n"
     ]
    }
   ],
   "source": [
    "n = 10\n",
    "i = 1\n",
    "while i < n:\n",
    "    print(i)\n",
    "    i = i+1"
   ]
  },
  {
   "cell_type": "code",
   "execution_count": 4,
   "id": "737f1e36-c023-40cd-a1bb-6707569e49c1",
   "metadata": {},
   "outputs": [
    {
     "name": "stdout",
     "output_type": "stream",
     "text": [
      "15\n",
      "14\n",
      "13\n",
      "12\n",
      "11\n",
      "10\n",
      "9\n",
      "8\n",
      "7\n",
      "6\n",
      "5\n",
      "4\n",
      "3\n",
      "2\n",
      "1\n"
     ]
    }
   ],
   "source": [
    "count = 15\n",
    "while count > 0:\n",
    "    print(count)\n",
    "    count = count - 1"
   ]
  },
  {
   "cell_type": "code",
   "execution_count": 5,
   "id": "a12ef43d-7219-42a2-89c9-b9f15bf3b8c4",
   "metadata": {},
   "outputs": [
    {
     "name": "stdout",
     "output_type": "stream",
     "text": [
      "1\n",
      "2\n",
      "3\n",
      "4\n",
      "5\n"
     ]
    }
   ],
   "source": [
    "#break terminates/exits the Loop\n",
    "# The condition is met it will break\n",
    "n = 8\n",
    "i = 1\n",
    "while i < n:\n",
    "    print(i)\n",
    "    i = i+1\n",
    "    if i == 6:\n",
    "        break\n",
    "else:\n",
    "    print(\"This will be executed when the while is run successfuly without any break\")\n",
    "    \n"
   ]
  },
  {
   "cell_type": "code",
   "execution_count": 6,
   "id": "a8be1c77-c360-46c5-825a-e2494642b750",
   "metadata": {},
   "outputs": [
    {
     "name": "stdout",
     "output_type": "stream",
     "text": [
      "1\n",
      "2\n",
      "2\n",
      "3\n",
      "3\n",
      "4\n",
      "4\n",
      "5\n",
      "6\n",
      "6\n",
      "7\n",
      "7\n",
      "8\n",
      "8\n",
      "9\n",
      "9\n",
      "10\n",
      "This will be executed when the while is run successfuly without any break\n"
     ]
    }
   ],
   "source": [
    "#Continue >> skips the iteration\n",
    "\n",
    "n = 10\n",
    "i = 1\n",
    "while i < n:\n",
    "    print(i)\n",
    "    i = i+1\n",
    "    if i == 5:\n",
    "        continue\n",
    "    print(i)\n",
    "else:\n",
    "    print(\"This will be executed when the while is run successfuly without any break\")\n",
    "    \n"
   ]
  },
  {
   "cell_type": "code",
   "execution_count": 7,
   "id": "e184ed34-8fec-4f90-9bd6-3b775dc0601b",
   "metadata": {},
   "outputs": [
    {
     "name": "stdout",
     "output_type": "stream",
     "text": [
      "p\n",
      "u\n",
      "m\n",
      "p\n",
      "k\n",
      "i\n",
      "n\n"
     ]
    }
   ],
   "source": [
    "# for Loops \n",
    "for i in \"pumpkin\":\n",
    "    print(i)"
   ]
  },
  {
   "cell_type": "code",
   "execution_count": 8,
   "id": "960b1bfc-4c85-4dd4-a620-9d2268c72b78",
   "metadata": {},
   "outputs": [
    {
     "name": "stdout",
     "output_type": "stream",
     "text": [
      "1\n",
      "2\n",
      "richa\n",
      "tiya\n"
     ]
    }
   ],
   "source": [
    "l = [1 , 2, \"richa\" , \"tiya\"]\n",
    "for i in l:\n",
    "    print(i)"
   ]
  },
  {
   "cell_type": "code",
   "execution_count": 11,
   "id": "45ac64c0-09b9-420a-8078-a4a407f5351a",
   "metadata": {},
   "outputs": [
    {
     "name": "stdout",
     "output_type": "stream",
     "text": [
      "1\n",
      "2\n",
      "richa\n"
     ]
    }
   ],
   "source": [
    "#break statement i for loop\n",
    "for i in l:\n",
    "    if i == \"tiya\":\n",
    "        break\n",
    "    print(i)\n",
    "else:\n",
    "    print(\"This will be executed when for loop ends without a break statment\")"
   ]
  },
  {
   "cell_type": "code",
   "execution_count": 16,
   "id": "90624835-0a6e-49b3-ae9d-9e9c4bd806da",
   "metadata": {},
   "outputs": [
    {
     "name": "stdout",
     "output_type": "stream",
     "text": [
      "1\n",
      "2\n",
      "richa\n",
      "This will be executed when for loop ends with a break statment\n"
     ]
    }
   ],
   "source": [
    "#continue statment for loop\n",
    "for i in l:\n",
    "    if i ==\"tiya\":\n",
    "        continue\n",
    "    print(i)\n",
    "else:\n",
    "    print(\"This will be executed when for loop ends with a break statment\")"
   ]
  },
  {
   "cell_type": "code",
   "execution_count": 17,
   "id": "48f51087-3e36-409e-82c5-c9c7d3480689",
   "metadata": {},
   "outputs": [
    {
     "data": {
      "text/plain": [
       "[0, 1, 2, 3, 4, 5, 6]"
      ]
     },
     "execution_count": 17,
     "metadata": {},
     "output_type": "execute_result"
    }
   ],
   "source": [
    "list(range(0 , 7)) #it will give value from 1 ro 6"
   ]
  },
  {
   "cell_type": "code",
   "execution_count": 18,
   "id": "39711aac-07da-4507-b18d-04c14c105aff",
   "metadata": {},
   "outputs": [
    {
     "name": "stdout",
     "output_type": "stream",
     "text": [
      "0 1 2 3 4 5 6 7 8 9 "
     ]
    }
   ],
   "source": [
    "for i in range(0, 10):\n",
    "    print(i, end=\" \")"
   ]
  },
  {
   "cell_type": "code",
   "execution_count": 20,
   "id": "5f9629de-c7b4-40a7-b811-eaefb2c2d3a8",
   "metadata": {},
   "outputs": [
    {
     "name": "stdout",
     "output_type": "stream",
     "text": [
      "1\n",
      "2\n",
      "3\n",
      "5\n",
      "6\n",
      "7\n",
      "9\n"
     ]
    }
   ],
   "source": [
    "#conditional with for loops\n",
    "number = [1, 2, 3, 4, 5, 6, 7, 8, 9,]\n",
    "for num in number:\n",
    "    if (num == 4) or (num ==8):\n",
    "        continue\n",
    "    print(num)"
   ]
  },
  {
   "cell_type": "code",
   "execution_count": 21,
   "id": "5562ff92-7357-44f2-a107-11e10835e449",
   "metadata": {},
   "outputs": [
    {
     "name": "stdout",
     "output_type": "stream",
     "text": [
      "1\n",
      "2\n"
     ]
    }
   ],
   "source": [
    "number = [1, 2, 3, 4, 5, 6, 7, 8, 9,]\n",
    "for num in number:\n",
    "    if (num == 3) or (num ==7):\n",
    "        break\n",
    "    print(num)"
   ]
  },
  {
   "cell_type": "code",
   "execution_count": 22,
   "id": "2220344f-5108-4ae8-808b-e97b16824a09",
   "metadata": {},
   "outputs": [
    {
     "name": "stdout",
     "output_type": "stream",
     "text": [
      "1\n",
      "3\n",
      "5\n",
      "7\n",
      "9\n"
     ]
    }
   ],
   "source": [
    "#print the odd no\n",
    "for i in range(10):\n",
    "    if i%2 == 0:\n",
    "        continue\n",
    "    print(i)"
   ]
  },
  {
   "cell_type": "code",
   "execution_count": 23,
   "id": "678296a7-8288-4911-b43e-633853a39ffe",
   "metadata": {},
   "outputs": [
    {
     "name": "stdout",
     "output_type": "stream",
     "text": [
      "0\n",
      "2\n",
      "4\n",
      "6\n",
      "8\n"
     ]
    }
   ],
   "source": [
    "#print the even no\n",
    "for i in range(10):\n",
    "    if i%2 != 0:\n",
    "        continue\n",
    "    print(i)\n"
   ]
  },
  {
   "cell_type": "code",
   "execution_count": 24,
   "id": "635746af-40c9-4e7d-8525-4247dbee1e6b",
   "metadata": {},
   "outputs": [
    {
     "name": "stdout",
     "output_type": "stream",
     "text": [
      "1 * 1 = 1\n",
      "1 * 2 = 2\n",
      "1 * 3 = 3\n",
      "1 * 4 = 4\n",
      "1 * 5 = 5\n",
      "1 * 6 = 6\n",
      "1 * 7 = 7\n",
      "1 * 8 = 8\n",
      "1 * 9 = 9\n",
      "1 * 10 = 10\n",
      "\n",
      "2 * 1 = 2\n",
      "2 * 2 = 4\n",
      "2 * 3 = 6\n",
      "2 * 4 = 8\n",
      "2 * 5 = 10\n",
      "2 * 6 = 12\n",
      "2 * 7 = 14\n",
      "2 * 8 = 16\n",
      "2 * 9 = 18\n",
      "2 * 10 = 20\n",
      "\n"
     ]
    }
   ],
   "source": [
    "#multiplication table\n",
    "for i in range(1, 3):\n",
    "    for j in range(1, 11):\n",
    "        product = i * j\n",
    "        print(f\"{i} * {j} = {product}\")\n",
    "    print()"
   ]
  },
  {
   "cell_type": "code",
   "execution_count": null,
   "id": "a8e336ca-3e59-4b92-a452-01f66a6fee73",
   "metadata": {},
   "outputs": [],
   "source": []
  }
 ],
 "metadata": {
  "kernelspec": {
   "display_name": "Python 3 (ipykernel)",
   "language": "python",
   "name": "python3"
  },
  "language_info": {
   "codemirror_mode": {
    "name": "ipython",
    "version": 3
   },
   "file_extension": ".py",
   "mimetype": "text/x-python",
   "name": "python",
   "nbconvert_exporter": "python",
   "pygments_lexer": "ipython3",
   "version": "3.10.8"
  }
 },
 "nbformat": 4,
 "nbformat_minor": 5
}
